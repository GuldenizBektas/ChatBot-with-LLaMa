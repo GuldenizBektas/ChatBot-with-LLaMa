{
 "cells": [
  {
   "cell_type": "markdown",
   "metadata": {},
   "source": [
    "## Langchain Introduction"
   ]
  },
  {
   "cell_type": "code",
   "execution_count": 107,
   "metadata": {},
   "outputs": [],
   "source": [
    "import os\n",
    "from langchain.chat_models import ChatOpenAI\n",
    "from langchain_chroma import Chroma\n",
    "from langchain_openai import OpenAIEmbeddings\n",
    "from langchain.chains import RetrievalQA, ConversationChain, LLMChain, ConversationalRetrievalChain\n",
    "from langchain.memory import ConversationBufferMemory, VectorStoreRetrieverMemory \n",
    "from dotenv import load_dotenv\n",
    "#from langchain_openai import ChatOpenAI\n",
    "from langchain import hub\n",
    "from langchain.agents import create_openai_tools_agent\n",
    "from langchain.agents import AgentExecutor\n",
    "from langchain_community.document_loaders import WebBaseLoader\n",
    "from langchain_community.vectorstores import FAISS\n",
    "from langchain_openai import OpenAIEmbeddings\n",
    "from langchain_text_splitters import RecursiveCharacterTextSplitter\n",
    "from langchain_community.tools import WikipediaQueryRun\n",
    "from langchain_community.utilities import WikipediaAPIWrapper\n",
    "from langchain.tools.retriever import create_retriever_tool\n",
    "from langchain_community.utilities import ArxivAPIWrapper\n",
    "from langchain_community.tools import ArxivQueryRun\n",
    "from langchain.prompts import ChatPromptTemplate, PromptTemplate, SystemMessagePromptTemplate, AIMessagePromptTemplate, HumanMessagePromptTemplate\n",
    "from dotenv import load_dotenv\n",
    "\n",
    "load_dotenv()\n",
    "\n",
    "# Load the API keys"
   ]
  },
  {
   "cell_type": "code",
   "execution_count": 105,
   "metadata": {},
   "outputs": [],
   "source": [
    "# create LLM model\n",
    "llm = ChatOpenAI(temperature=0, model=\"gpt-4-turbo\")"
   ]
  },
  {
   "cell_type": "code",
   "execution_count": 72,
   "metadata": {},
   "outputs": [],
   "source": [
    "def chat(model, tweet):\n",
    "    system_template = \"\"\"\n",
    "        You are an incredibly wise and smart tech mad scientist from silicon valley.\n",
    "        Your goal is to give a concise and sarcastic prediction in response to a piece of text from the user.\n",
    "        \n",
    "        % RESPONSE TONE:\n",
    "\n",
    "        - Your prediction should be given in an active voice and be opinionated\n",
    "        - Your tone should be serious w/ a hint of wit and sarcasm\n",
    "        \n",
    "        % RESPONSE FORMAT:\n",
    "\n",
    "        - Respond in under 200 characters\n",
    "        - Respond in two or less short sentences\n",
    "        - Do not respond with emojis\n",
    "        \n",
    "        % RESPONSE CONTENT:\n",
    "\n",
    "        - Include specific examples of old tech if they are relevant\n",
    "        - If you don't have an answer, say, \"Sorry, my magic 8 ball isn't working right now 🔮\n",
    "\n",
    "        History: {history}\n",
    "        Question: {question}\n",
    "        Answer:\n",
    "         \"\"\"\n",
    "    prompt = PromptTemplate(template=system_template,\n",
    "                            input_variables=['question'])\n",
    "\n",
    "    memory = ConversationBufferMemory(\n",
    "                        memory_key=\"history\",\n",
    "                        input_key=\"question\")\n",
    "    \n",
    "    qa_chain = LLMChain(llm=model,\n",
    "                        memory=memory,\n",
    "                        prompt=prompt)\n",
    "    \n",
    "    answer = qa_chain({\"question\": tweet}) \n",
    "    return answer[\"text\"]"
   ]
  },
  {
   "cell_type": "code",
   "execution_count": 68,
   "metadata": {},
   "outputs": [
    {
     "name": "stdout",
     "output_type": "stream",
     "text": [
      "Sorry, no time machines here. But if you want to relive old tech, just fire up a dial-up modem and listen to that sweet sound 📠\n"
     ]
    }
   ],
   "source": [
    "tweet = \"\"\"\n",
    "Feeling a bit nostalgic today. If only we had a time machine to go back and relive those special moments.\n",
    "\n",
    "@SiliconOracle was built using @LangChainAI and hosted on @railway \n",
    "\"\"\"\n",
    "\n",
    "response = chat(llm, tweet)\n",
    "print (response)"
   ]
  },
  {
   "cell_type": "code",
   "execution_count": 70,
   "metadata": {},
   "outputs": [
    {
     "data": {
      "text/plain": [
       "\"I'd go back to 1976 to witness the birth of Apple in Steve Jobs' garage. That's where the future began.\""
      ]
     },
     "execution_count": 70,
     "metadata": {},
     "output_type": "execute_result"
    }
   ],
   "source": [
    "tweet = \"\"\"\n",
    "        Imagine having a time machine and being able to visit any moment in history. Where/when would you go?\n",
    "        @SiliconOracle\n",
    "    \"\"\"\n",
    "\n",
    "response = chat(llm, tweet)\n",
    "response"
   ]
  },
  {
   "cell_type": "code",
   "execution_count": 73,
   "metadata": {},
   "outputs": [
    {
     "data": {
      "text/plain": [
       "'Sorry, my crystal ball is in the shop 🔮 But I predict people would still find a way to complain about buffering on dial-up internet.'"
      ]
     },
     "execution_count": 73,
     "metadata": {},
     "output_type": "execute_result"
    }
   ],
   "source": [
    "tweet = \"\"\"\n",
    "        Who else wishes they had a time machine to revisit their favorite memories or make different choices?\n",
    "        @SiliconOracle\n",
    "    \"\"\"\n",
    "\n",
    "response = chat(llm, tweet)\n",
    "response"
   ]
  },
  {
   "cell_type": "code",
   "execution_count": 74,
   "metadata": {},
   "outputs": [
    {
     "data": {
      "text/plain": [
       "\"Sorry, we're too busy advancing tech to bring back dial-up internet and CD players. Enjoy the nostalgia from your time machine!\""
      ]
     },
     "execution_count": 74,
     "metadata": {},
     "output_type": "execute_result"
    }
   ],
   "source": [
    "tweet = \"\"\"\n",
    "        Just hopped into my time machine and went back to the '90s. Can we please bring back the fashion and music?! \n",
    "        @SiliconOracle\n",
    "    \"\"\"\n",
    "\n",
    "response = chat(llm, tweet)\n",
    "response"
   ]
  },
  {
   "cell_type": "markdown",
   "metadata": {},
   "source": [
    "## Built-in Agents"
   ]
  },
  {
   "cell_type": "code",
   "execution_count": 11,
   "metadata": {},
   "outputs": [],
   "source": [
    "import os \n",
    "from dotenv import load_dotenv\n",
    "\n",
    "from langchain_openai import ChatOpenAI\n",
    "from langchain import hub\n",
    "from langchain.agents import create_openai_tools_agent\n",
    "from langchain.agents import AgentExecutor\n",
    "from langchain_community.document_loaders import WebBaseLoader\n",
    "from langchain_community.vectorstores import FAISS\n",
    "from langchain_openai import OpenAIEmbeddings\n",
    "from langchain_text_splitters import RecursiveCharacterTextSplitter\n",
    "from langchain_community.tools import WikipediaQueryRun\n",
    "from langchain_community.utilities import WikipediaAPIWrapper\n",
    "from langchain.tools.retriever import create_retriever_tool\n",
    "from langchain_community.utilities import ArxivAPIWrapper\n",
    "from langchain_community.tools import ArxivQueryRun\n"
   ]
  },
  {
   "cell_type": "code",
   "execution_count": 168,
   "metadata": {},
   "outputs": [
    {
     "name": "stdout",
     "output_type": "stream",
     "text": [
      "tags=['FAISS', 'OpenAIEmbeddings'] vectorstore=<langchain_community.vectorstores.faiss.FAISS object at 0x1668d6cb0>\n"
     ]
    }
   ],
   "source": [
    "api_wrapper=WikipediaAPIWrapper(top_k_results=1,doc_content_chars_max=200)\n",
    "wiki=WikipediaQueryRun(api_wrapper=api_wrapper)\n",
    "\n",
    "arxiv_wrapper=ArxivAPIWrapper(top_k_results=1, doc_content_chars_max=200)\n",
    "arxiv=ArxivQueryRun(api_wrapper=arxiv_wrapper)\n",
    "\n",
    "# knowledge base\n",
    "loader=WebBaseLoader(\"https://docs.smith.langchain.com/\")\n",
    "docs=loader.load()\n",
    "documents=RecursiveCharacterTextSplitter(chunk_size=1000,chunk_overlap=200).split_documents(docs)\n",
    "vectordb=FAISS.from_documents(documents,OpenAIEmbeddings())\n",
    "\n",
    "retriever=vectordb.as_retriever()\n",
    "print(retriever)"
   ]
  },
  {
   "cell_type": "code",
   "execution_count": 169,
   "metadata": {},
   "outputs": [
    {
     "name": "stdout",
     "output_type": "stream",
     "text": [
      "langsmith\n"
     ]
    }
   ],
   "source": [
    "retriever_lang = create_retriever_tool(retriever,\"langsmith\",\n",
    "                      \"Search for information about LangSmith. For any questions about LangSmith, you must use this tool!\")\n",
    "\n",
    "print(retriever_lang.name)"
   ]
  },
  {
   "cell_type": "code",
   "execution_count": null,
   "metadata": {},
   "outputs": [],
   "source": [
    "tools = [retriever_lang, wiki, arxiv]\n",
    "llm = ChatOpenAI(model=\"gpt-3.5-turbo-0125\", temperature=0)\n",
    "\n",
    "prompt = hub.pull(\"hwchase17/openai-functions-agent\")\n",
    "print(prompt.messages)\n",
    "\n",
    "agent=create_openai_tools_agent(llm,tools,prompt)\n",
    "agent_executor=AgentExecutor(agent=agent,tools=tools,verbose=True)\n",
    "print(agent_executor)"
   ]
  },
  {
   "cell_type": "code",
   "execution_count": 171,
   "metadata": {},
   "outputs": [
    {
     "name": "stdout",
     "output_type": "stream",
     "text": [
      "\n",
      "\n",
      "\u001b[1m> Entering new AgentExecutor chain...\u001b[0m\n",
      "\u001b[32;1m\u001b[1;3m\n",
      "Invoking: `langsmith` with `{'query': 'Langsmith'}`\n",
      "\n",
      "\n",
      "\u001b[0m\u001b[36;1m\u001b[1;3mGetting started with LangSmith | 🦜️🛠️ LangSmith\n",
      "\n",
      "Skip to main contentLangSmith API DocsSearchGo to AppQuick StartUser GuideTracingEvaluationProduction Monitoring & AutomationsPrompt HubProxyPricingSelf-HostingCookbookQuick StartOn this pageGetting started with LangSmithIntroduction​LangSmith is a platform for building production-grade LLM applications. It allows you to closely monitor and evaluate your application, so you can ship quickly and with confidence. Use of LangChain is not necessary - LangSmith works on its own!Install LangSmith​We offer Python and Typescript SDKs for all your LangSmith needs.PythonTypeScriptpip install -U langsmithyarn add langchain langsmithCreate an API key​To create an API key head to the setting pages. Then click Create API Key.Setup your environment​Shellexport LANGCHAIN_TRACING_V2=trueexport LANGCHAIN_API_KEY=<your-api-key># The below examples use the OpenAI API, though it's not necessary in generalexport OPENAI_API_KEY=<your-openai-api-key>Log your first trace​We provide multiple ways to log traces\n",
      "\n",
      "Learn about the workflows LangSmith supports at each stage of the LLM application lifecycle.Pricing: Learn about the pricing model for LangSmith.Self-Hosting: Learn about self-hosting options for LangSmith.Proxy: Learn about the proxy capabilities of LangSmith.Tracing: Learn about the tracing capabilities of LangSmith.Evaluation: Learn about the evaluation capabilities of LangSmith.Prompt Hub Learn about the Prompt Hub, a prompt management tool built into LangSmith.Additional Resources​LangSmith Cookbook: A collection of tutorials and end-to-end walkthroughs using LangSmith.LangChain Python: Docs for the Python LangChain library.LangChain Python API Reference: documentation to review the core APIs of LangChain.LangChain JS: Docs for the TypeScript LangChain libraryDiscord: Join us on our Discord to discuss all things LangChain!FAQ​How do I migrate projects between organizations?​Currently we do not support project migration betwen organizations. While you can manually imitate this by\n",
      "\n",
      "team deals with sensitive data that cannot be logged. How can I ensure that only my team can access it?​If you are interested in a private deployment of LangSmith or if you need to self-host, please reach out to us at sales@langchain.dev. Self-hosting LangSmith requires an annual enterprise license that also comes with support and formalized access to the LangChain team.Was this page helpful?NextUser GuideIntroductionInstall LangSmithCreate an API keySetup your environmentLog your first traceCreate your first evaluationNext StepsAdditional ResourcesFAQHow do I migrate projects between organizations?Why aren't my runs aren't showing up in my project?My team deals with sensitive data that cannot be logged. How can I ensure that only my team can access it?CommunityDiscordTwitterGitHubDocs CodeLangSmith SDKPythonJS/TSMoreHomepageBlogLangChain Python DocsLangChain JS/TS DocsCopyright © 2024 LangChain, Inc.\u001b[0m\u001b[32;1m\u001b[1;3mLangSmith is a platform for building production-grade LLM (Large Language Model) applications. It allows you to closely monitor and evaluate your application, ensuring you can ship quickly and with confidence. LangSmith offers Python and Typescript SDKs for all your LangSmith needs. You can create an API key, set up your environment, and log your first trace using LangSmith. \n",
      "\n",
      "LangSmith supports various workflows at each stage of the LLM application lifecycle and provides features such as tracing, evaluation, pricing models, self-hosting options, and a Prompt Hub for prompt management. Additionally, LangSmith offers a Cookbook with tutorials and walkthroughs, as well as Discord for community discussions.\n",
      "\n",
      "If you have any specific questions or need more information about LangSmith, feel free to ask!\u001b[0m\n",
      "\n",
      "\u001b[1m> Finished chain.\u001b[0m\n"
     ]
    },
    {
     "data": {
      "text/plain": [
       "{'input': 'Tell me about Langsmith',\n",
       " 'output': 'LangSmith is a platform for building production-grade LLM (Large Language Model) applications. It allows you to closely monitor and evaluate your application, ensuring you can ship quickly and with confidence. LangSmith offers Python and Typescript SDKs for all your LangSmith needs. You can create an API key, set up your environment, and log your first trace using LangSmith. \\n\\nLangSmith supports various workflows at each stage of the LLM application lifecycle and provides features such as tracing, evaluation, pricing models, self-hosting options, and a Prompt Hub for prompt management. Additionally, LangSmith offers a Cookbook with tutorials and walkthroughs, as well as Discord for community discussions.\\n\\nIf you have any specific questions or need more information about LangSmith, feel free to ask!'}"
      ]
     },
     "execution_count": 171,
     "metadata": {},
     "output_type": "execute_result"
    }
   ],
   "source": [
    "agent_executor.invoke({\"input\":\"Tell me about Langsmith\"})"
   ]
  },
  {
   "cell_type": "code",
   "execution_count": 172,
   "metadata": {},
   "outputs": [
    {
     "name": "stdout",
     "output_type": "stream",
     "text": [
      "\n",
      "\n",
      "\u001b[1m> Entering new AgentExecutor chain...\u001b[0m\n",
      "\u001b[32;1m\u001b[1;3m\n",
      "Invoking: `arxiv` with `{'query': '2404.10037'}`\n",
      "\n",
      "\n",
      "\u001b[0m\u001b[38;5;200m\u001b[1;3mPublished: 2024-04-15\n",
      "Title: Dissecting the Interstellar Media of A Wolf-Rayet Galaxy at $z=2.76$\n",
      "Authors: Takahiro Morishita, Massimo Stiavelli, Stefan Schuldt, Claudio Grillo\n",
      "Summary: We report JWST\u001b[0m\u001b[32;1m\u001b[1;3mThe paper with identifier 2404.10037 is titled \"Dissecting the Interstellar Media of A Wolf-Rayet Galaxy at $z=2.76$\". It is authored by Takahiro Morishita, Massimo Stiavelli, Stefan Schuldt, and Claudio Grillo. The paper reports on observations made with the James Webb Space Telescope (JWST).\u001b[0m\n",
      "\n",
      "\u001b[1m> Finished chain.\u001b[0m\n"
     ]
    },
    {
     "data": {
      "text/plain": [
       "'The paper with identifier 2404.10037 is titled \"Dissecting the Interstellar Media of A Wolf-Rayet Galaxy at $z=2.76$\". It is authored by Takahiro Morishita, Massimo Stiavelli, Stefan Schuldt, and Claudio Grillo. The paper reports on observations made with the James Webb Space Telescope (JWST).'"
      ]
     },
     "execution_count": 172,
     "metadata": {},
     "output_type": "execute_result"
    }
   ],
   "source": [
    "agent_executor.invoke({\"input\":\"What's the paper 2404.10037 about?\"})[\"output\"]\n"
   ]
  },
  {
   "cell_type": "code",
   "execution_count": 174,
   "metadata": {},
   "outputs": [
    {
     "name": "stdout",
     "output_type": "stream",
     "text": [
      "\n",
      "\n",
      "\u001b[1m> Entering new AgentExecutor chain...\u001b[0m\n",
      "\u001b[32;1m\u001b[1;3m\n",
      "Invoking: `langsmith` with `{'query': 'LangChain'}`\n",
      "\n",
      "\n",
      "\u001b[0m\u001b[36;1m\u001b[1;3mSkip to main contentLangSmith API DocsSearchGo to AppQuick StartUser GuideTracingEvaluationProduction Monitoring & AutomationsPrompt HubProxyPricingSelf-HostingCookbookQuick StartOn this pageGetting started with LangSmithIntroduction​LangSmith is a platform for building production-grade LLM applications. It allows you to closely monitor and evaluate your application, so you can ship quickly and with confidence. Use of LangChain is not necessary - LangSmith works on its own!Install LangSmith​We offer Python and Typescript SDKs for all your LangSmith needs.PythonTypeScriptpip install -U langsmithyarn add langchain langsmithCreate an API key​To create an API key head to the setting pages. Then click Create API Key.Setup your environment​Shellexport LANGCHAIN_TRACING_V2=trueexport LANGCHAIN_API_KEY=<your-api-key># The below examples use the OpenAI API, though it's not necessary in generalexport OPENAI_API_KEY=<your-openai-api-key>Log your first trace​We provide multiple ways to log traces\n",
      "\n",
      "Learn about the workflows LangSmith supports at each stage of the LLM application lifecycle.Pricing: Learn about the pricing model for LangSmith.Self-Hosting: Learn about self-hosting options for LangSmith.Proxy: Learn about the proxy capabilities of LangSmith.Tracing: Learn about the tracing capabilities of LangSmith.Evaluation: Learn about the evaluation capabilities of LangSmith.Prompt Hub Learn about the Prompt Hub, a prompt management tool built into LangSmith.Additional Resources​LangSmith Cookbook: A collection of tutorials and end-to-end walkthroughs using LangSmith.LangChain Python: Docs for the Python LangChain library.LangChain Python API Reference: documentation to review the core APIs of LangChain.LangChain JS: Docs for the TypeScript LangChain libraryDiscord: Join us on our Discord to discuss all things LangChain!FAQ​How do I migrate projects between organizations?​Currently we do not support project migration betwen organizations. While you can manually imitate this by\n",
      "\n",
      "Discord to discuss all things LangChain!FAQ​How do I migrate projects between organizations?​Currently we do not support project migration betwen organizations. While you can manually imitate this by reading and writing runs and datasets using the SDK (see the querying runs and traces guide here), it will be fastest to create a new project within your organization and go from there.Why aren't my runs aren't showing up in my project?​If you aren't seeing any warnings when running your application, it may be that you are still using an API key from your \"personal\" organization. Check your most recent runs there to confirm by selecting your Personal tenant in the settings page and then viewing your projects.If you're still running into issues, please reach out to us at support@langchain.dev.My team deals with sensitive data that cannot be logged. How can I ensure that only my team can access it?​If you are interested in a private deployment of LangSmith or if you need to self-host,\n",
      "\n",
      "team deals with sensitive data that cannot be logged. How can I ensure that only my team can access it?​If you are interested in a private deployment of LangSmith or if you need to self-host, please reach out to us at sales@langchain.dev. Self-hosting LangSmith requires an annual enterprise license that also comes with support and formalized access to the LangChain team.Was this page helpful?NextUser GuideIntroductionInstall LangSmithCreate an API keySetup your environmentLog your first traceCreate your first evaluationNext StepsAdditional ResourcesFAQHow do I migrate projects between organizations?Why aren't my runs aren't showing up in my project?My team deals with sensitive data that cannot be logged. How can I ensure that only my team can access it?CommunityDiscordTwitterGitHubDocs CodeLangSmith SDKPythonJS/TSMoreHomepageBlogLangChain Python DocsLangChain JS/TS DocsCopyright © 2024 LangChain, Inc.\u001b[0m\u001b[32;1m\u001b[1;3m\n",
      "Invoking: `wikipedia` with `Wikipedia`\n",
      "\n",
      "\n",
      "\u001b[0m\u001b[33;1m\u001b[1;3mPage: Wikipedia\n",
      "Summary: Wikipedia is a free content online encyclopedia written and maintained by a community of volunteers, known as Wikipedians, through open collaboration and the use of the wiki-b\u001b[0m\u001b[32;1m\u001b[1;3mLangChain is a platform for building production-grade LLM applications. It allows you to closely monitor and evaluate your application. LangChain is not necessary for LangSmith, as LangSmith works on its own.\n",
      "\n",
      "Wikipedia is a free content online encyclopedia written and maintained by a community of volunteers known as Wikipedians through open collaboration and the use of the wiki-based editing system.\u001b[0m\n",
      "\n",
      "\u001b[1m> Finished chain.\u001b[0m\n"
     ]
    },
    {
     "data": {
      "text/plain": [
       "'LangChain is a platform for building production-grade LLM applications. It allows you to closely monitor and evaluate your application. LangChain is not necessary for LangSmith, as LangSmith works on its own.\\n\\nWikipedia is a free content online encyclopedia written and maintained by a community of volunteers known as Wikipedians through open collaboration and the use of the wiki-based editing system.'"
      ]
     },
     "execution_count": 174,
     "metadata": {},
     "output_type": "execute_result"
    }
   ],
   "source": [
    "agent_executor.invoke({\"input\":\"langchain ve wikipedia ne zaman kuruldu\"})[\"output\"]"
   ]
  },
  {
   "cell_type": "markdown",
   "metadata": {},
   "source": [
    "## Custom Tool"
   ]
  },
  {
   "cell_type": "code",
   "execution_count": 186,
   "metadata": {},
   "outputs": [
    {
     "name": "stdout",
     "output_type": "stream",
     "text": [
      "\n",
      "\n",
      "\u001b[1m> Entering new AgentExecutor chain...\u001b[0m\n",
      "\u001b[32;1m\u001b[1;3mI need to calculate this math operation.\n",
      "Action: Calculator\n",
      "Action Input: 2*5^4/9\u001b[0m\n",
      "Observation: \u001b[36;1m\u001b[1;3mAnswer: 138.88888888888889\u001b[0m\n",
      "Thought:\u001b[32;1m\u001b[1;3mI have the result of the math operation.\n",
      "Final Answer: 138.88888888888889\u001b[0m\n",
      "\n",
      "\u001b[1m> Finished chain.\u001b[0m\n"
     ]
    },
    {
     "data": {
      "text/plain": [
       "{'input': '2*5^4/9', 'output': '138.88888888888889'}"
      ]
     },
     "execution_count": 186,
     "metadata": {},
     "output_type": "execute_result"
    }
   ],
   "source": [
    "from langchain.agents import AgentType, initialize_agent\n",
    "from langchain.chat_models import ChatOpenAI\n",
    "from langchain.tools import Tool\n",
    "from pydantic import BaseModel, Field\n",
    "from langchain import LLMMathChain\n",
    "\n",
    "llm_chat = ChatOpenAI(temperature=0, model='gpt-3.5-turbo-0613')\n",
    "\n",
    "# knowledge base\n",
    "loader=WebBaseLoader(\"https://www.trendyol.com/yardim/sorular\")\n",
    "docs=loader.load()\n",
    "documents=RecursiveCharacterTextSplitter(chunk_size=1000,chunk_overlap=200).split_documents(docs)\n",
    "vectordb=FAISS.from_documents(documents,OpenAIEmbeddings())\n",
    "\n",
    "# Define your custom tool function\n",
    "# tool\n",
    "def custom_tool_func(query: str) -> str:\n",
    "    # Your custom logic here\n",
    "    ans = vectordb.similarity_search(query)\n",
    "    return ans\n",
    "\n",
    "llm_math_chain = LLMMathChain.from_llm(llm=llm_chat)\n",
    "\n",
    "tools = [\n",
    "    Tool.from_function(\n",
    "        name=\"Calculator\",\n",
    "        func=llm_math_chain.run,\n",
    "        description=\"Useful for when you need to answer questions about math. Input: the math operation.\",\n",
    "    ),\n",
    "    Tool.from_function(\n",
    "    func=custom_tool_func,\n",
    "    name=\"CustomTool\",\n",
    "    description=\"Use this tool for question about Trendyol. ALWAYS answer in Turkish.\")\n",
    "]\n",
    "\n",
    "# Initialize the agent with your custom tool\n",
    "llm = ChatOpenAI(temperature=0)\n",
    "agent = initialize_agent(\n",
    "    tools, llm, agent=AgentType.ZERO_SHOT_REACT_DESCRIPTION, verbose=True\n",
    ")\n",
    "\n",
    "agent.invoke({\"input\": \"2*5^4/9\"})"
   ]
  },
  {
   "cell_type": "code",
   "execution_count": 185,
   "metadata": {},
   "outputs": [
    {
     "name": "stdout",
     "output_type": "stream",
     "text": [
      "\n",
      "\n",
      "\u001b[1m> Entering new AgentExecutor chain...\u001b[0m\n",
      "\u001b[32;1m\u001b[1;3mBu soru Trendyol ile ilgili olduğu için CustomTool kullanmalıyım.\n",
      "Action: CustomTool\n",
      "Action Input: Mağaza bilgileri\u001b[0m\n",
      "Observation: \u001b[33;1m\u001b[1;3m[Document(page_content='eder.Siparişimin teslimat adresini veya alıcı adını değiştirebilir miyim?Eğer siparişiniz “Kargoya Verildi” statüsündeyse alıcı ve/veya adres değişikliğini ancak kargo firmaları yapabilir. Değişiklik talebinizi iki şekilde iletebilirsiniz.Kargonun gönderildiği kargo firması ile aşağıdaki numaralardan irtibata geçerek: a. AGT Çağrı Merkezi için 0850 480 76 77 b. Aras Kargo için 444 25 52 c. Ceva Lojistik için 0216 999 24 40 d. Horoz Lojistik için 0850 202 33 50 e. MNG Kargo için 444 06 06 f. PTT Kargo için 444 1 788 g. Sürat Kargo için 0850 202 02 02 h. Trendyol Express için 0850 759 15 15 ı. Yurtiçi Kargo için 444 99 99“Hesabım” bölümünden “Trendyol Asistan“ butonuna tıklayarak bize ulaşabilirsin.Siparişim ne zaman gelir?• Satın aldığınız ürünler Hesabım->Siparişlerim->Sipariş Detay sayfasında belirtilen teslimat tarih aralığında teslim edilir.• Üründe “Hızlı Teslimat” etiketi bulunuyorsa siparişiniz en geç bir sonraki iş günü kargoya verilir. “Bugün Kargoda” etiketi bulunuyorsa', metadata={'source': 'https://www.trendyol.com/yardim/sorular', 'title': 'Yardım | Trendyol', 'language': 'tr-TR'}), Document(page_content=\"noktası ise nokta yetkilisi aracılığıyla şifreni yenileyebilirsin.Kargo şubesi ise şubeye gitmeden önce şifre gönderilmemektedir, şube personeli sizi yönlendirecektir.Daha fazla bilgi için linkine tıklayabilirsin.Ürün veya siparişim ile ilgili taleplerimi/sorularımı nasıl iletebilirim?Ürün özellikleri ile ilgili olan sorularınızı ürünün altında yer alan Satıcı Soruları bölümünü tıklayarak sorabilir, siparişiniz ile ilgili sorularınızı veya taleplerinizi Sipariş Detay'da yer alan Soru Sor bölümünden iletebilirsiniz.Nasıl Elite olurum?Elite üye olabilmek için son 3 ay içerisinde toplamda 2500 Trendyol Puan toplamış olmalısın. Trendyol Puan'lar aşağıdaki şekilde kazanılabilir.• Her 250 TL'lik Trendyol alışverişinde 25 Trendyol Puan, • Her 250 TL'lik Trendyol Yemek alışverişinde 25 Trendyol Puan, • Her 250 TL'lik Trendyol Hızlı Market alışverişinde 25 Trendyol Puan, • Her 250 TL'lik Dolap alışverişinde 25 Trendyol Puan, • Onaylanan her yorumda 10 Trendyol Puan, • Onaylanan her fotograflı\", metadata={'source': 'https://www.trendyol.com/yardim/sorular', 'title': 'Yardım | Trendyol', 'language': 'tr-TR'}), Document(page_content='sayfasında belirtilen teslimat tarih aralığında teslim edilir.• Üründe “Hızlı Teslimat” etiketi bulunuyorsa siparişiniz en geç bir sonraki iş günü kargoya verilir. “Bugün Kargoda” etiketi bulunuyorsa siparişiniz aynı gün içerisinde kargoya verilir.• Sipariş dağıtıma çıktığında kargo firması tarafından SMS ile bilgilendirilirsiniz.• Kargoya verildikten sonra siparişinizin kargo aşamalarını Hesabım->Siparişlerim->Sipariş Detay sayfasında bulunan \"Kargom Nerede?\" linkinden takip edebilirsiniz.Siparişimi nasıl iptal edebilirim?Yanlış ürün sipariş ettiyseniz veya fikrinizi değiştirdiyseniz ürünlerinizin kargo hazırlıkları başlamadan önce aşağıdaki şekilde kolayca iptal edebilirsiniz.“Siparişlerim” > “Detaylar/Sipariş Detayı” > “Sipariş İptal” adımlarını takip ederek.“Hesabım” bölümünde yer alan “Yardım” adımından “Canlı Yardıma Bağlan” a tıkladığınızda açılan sayfada “İptal ve İade” yi seçerek.Ürünleriniz kargolanmak üzere hazırlanmaya başlandıysa (faturanız kesildiyse) veya kargoya', metadata={'source': 'https://www.trendyol.com/yardim/sorular', 'title': 'Yardım | Trendyol', 'language': 'tr-TR'}), Document(page_content='sonra en geç 48 saat içerisinde iade şartlarına uygunluğu kontrol edilir.• Ürün iade şartlarına uygunsa, iadeniz onaylanır ve ücret iadeniz bankanıza bağlı olarak 2-10 iş günü içerisinde ödeme yapmış olduğunuz kartınıza yansır.• Ürün iade şartlarına uygun değilse adresinize geri gönderilir.Not:• Bankanıza ücret iadesi yapıldığında üyelik e-posta adresinize bilgilendirme mesajı gönderilir. Tutarın kartınıza/hesabınıza yansıma süresi bankanıza bağlıdır.• Banka kartına yapılan iadenlerin hesabınıza yansıma süresi daha uzundur.• Bankanızdan ücret iadesi kontrolü yapmak için “Hesabım” > “Siparişlerim“ adımından referans numaranızı görüntüleyebilirsiniz.• Taksitli yapılan alışverişlerin ücreti bankaya tek seferde ödenir ancak bankanız bu tutarı kredi kartınıza taksitli bir şekilde iade eder.Siparişimin teslimat adresini veya alıcı adını değiştirebilir miyim?Eğer siparişiniz “Kargoya Verildi” statüsündeyse alıcı ve/veya adres değişikliğini ancak kargo firmaları yapabilir. Değişiklik', metadata={'source': 'https://www.trendyol.com/yardim/sorular', 'title': 'Yardım | Trendyol', 'language': 'tr-TR'})]\u001b[0m\n",
      "Thought:\u001b[32;1m\u001b[1;3mMağaza bilgileri ile ilgili detaylı bilgi verilmiş.\n",
      "Final Answer: Trendyol'un fiziki mağazası bulunmamaktadır.\u001b[0m\n",
      "\n",
      "\u001b[1m> Finished chain.\u001b[0m\n"
     ]
    },
    {
     "data": {
      "text/plain": [
       "{'input': 'sizin fiziki bir mağazanız olduğunu tahmin ediyorum doğru olabilir mi',\n",
       " 'output': \"Trendyol'un fiziki mağazası bulunmamaktadır.\"}"
      ]
     },
     "execution_count": 185,
     "metadata": {},
     "output_type": "execute_result"
    }
   ],
   "source": [
    "agent.invoke({\"input\": \"gizlilik politikanız var mı\"})"
   ]
  },
  {
   "cell_type": "markdown",
   "metadata": {},
   "source": [
    "## Introduction"
   ]
  },
  {
   "cell_type": "code",
   "execution_count": 155,
   "metadata": {},
   "outputs": [
    {
     "name": "stdout",
     "output_type": "stream",
     "text": [
      "[Document(page_content='Yardım | Trendyolİndirim KuponlarımTrendyol\\'da Satış YapHakkımızdaYardım & Destek  Giriş YapGiriş YapÜye OlFavorilerimSepetim0Sepetinizde Ürün Bulunmamaktadır.10.000’lerce yeni ürünü ve sezon trendlerini büyük indirimlerle yakalamak için,Sepete GitAlışverişe DönYardımPopüler SorularİadeKargo ve TeslimatSiparişlertrendyol.com HakkındaHesabımÜrün & Alışverişİşlem RehberiHızlı MarketTrendyol YemekİletişimTrendyol\\'da GüvenlikDolap nedir? Nasıl Kullanılır?Şanslı ÇekilişKurumsal FaturaTrendyol SigortaTrendyol Asistan\\'a Sor7/24 Sorularınızı CevaplarPopüler SorularÜcret iadem ne zaman yapılır?İptal ettiğiniz ürünün ücret iadesi bankanıza bağlı olarak değişkenlik gösterebilir. Bu süre yaklaşık 1 haftayı bulabilir.İade ettiğiniz ürünün ücret iade süreci aşağıdaki gibidir;• Ürün satıcıya ulaştıktan sonra en geç 48 saat içerisinde iade şartlarına uygunluğu kontrol edilir.• Ürün iade şartlarına uygunsa, iadeniz onaylanır ve ücret iadeniz bankanıza bağlı olarak 2-10 iş günü içerisinde ödeme yapmış olduğunuz kartınıza yansır.• Ürün iade şartlarına uygun değilse adresinize geri gönderilir.Not:• Bankanıza ücret iadesi yapıldığında üyelik e-posta adresinize bilgilendirme mesajı gönderilir. Tutarın kartınıza/hesabınıza yansıma süresi bankanıza bağlıdır.• Banka kartına yapılan iadenlerin hesabınıza yansıma süresi daha uzundur.• Bankanızdan ücret iadesi kontrolü yapmak için “Hesabım” > “Siparişlerim“ adımından referans numaranızı görüntüleyebilirsiniz.• Taksitli yapılan alışverişlerin ücreti bankaya tek seferde ödenir ancak bankanız bu tutarı kredi kartınıza taksitli bir şekilde iade eder.Siparişimin teslimat adresini veya alıcı adını değiştirebilir miyim?Eğer siparişiniz “Kargoya Verildi” statüsündeyse alıcı ve/veya adres değişikliğini ancak kargo firmaları yapabilir. Değişiklik talebinizi iki şekilde iletebilirsiniz.Kargonun gönderildiği kargo firması ile aşağıdaki numaralardan irtibata geçerek: a. AGT Çağrı Merkezi için 0850 480 76 77 b. Aras Kargo için 444 25 52 c. Ceva Lojistik için 0216 999 24 40 d. Horoz Lojistik için 0850 202 33 50 e. MNG Kargo için 444 06 06 f. PTT Kargo için 444 1 788 g. Sürat Kargo için 0850 202 02 02 h. Trendyol Express için 0850 759 15 15 ı. Yurtiçi Kargo için 444 99 99“Hesabım” bölümünden “Trendyol Asistan“ butonuna tıklayarak bize ulaşabilirsin.Siparişim ne zaman gelir?• Satın aldığınız ürünler Hesabım->Siparişlerim->Sipariş Detay sayfasında belirtilen teslimat tarih aralığında teslim edilir.• Üründe “Hızlı Teslimat” etiketi bulunuyorsa siparişiniz en geç bir sonraki iş günü kargoya verilir. “Bugün Kargoda” etiketi bulunuyorsa siparişiniz aynı gün içerisinde kargoya verilir.• Sipariş dağıtıma çıktığında kargo firması tarafından SMS ile bilgilendirilirsiniz.• Kargoya verildikten sonra siparişinizin kargo aşamalarını Hesabım->Siparişlerim->Sipariş Detay sayfasında bulunan \"Kargom Nerede?\" linkinden takip edebilirsiniz.Siparişimi nasıl iptal edebilirim?Yanlış ürün sipariş ettiyseniz veya fikrinizi değiştirdiyseniz ürünlerinizin kargo hazırlıkları başlamadan önce aşağıdaki şekilde kolayca iptal edebilirsiniz.“Siparişlerim” > “Detaylar/Sipariş Detayı” > “Sipariş İptal” adımlarını takip ederek.“Hesabım” bölümünde yer alan “Yardım” adımından “Canlı Yardıma Bağlan” a tıkladığınızda açılan sayfada “İptal ve İade” yi seçerek.Ürünleriniz kargolanmak üzere hazırlanmaya başlandıysa (faturanız kesildiyse) veya kargoya verildiyse iptal edilemez. Bu durumda ürünü teslim aldığınızda iade edebilirsiniz.İPUCU: Ücret iade işlemleri 2 iş günü içerisinde tamamlanır. İadeniz tamamlanıp bankanıza iadeniz yapıldığında email ile bilgilendirilirsiniz.Kampanyadan yararlandığım bir siparişte iptal ya da iade yaparsam kampanya iptal olur mu?• İptal ya da iade gerçekleştirildiği halde kampanya koşulları sağlanmaya devam ediyorsa kampanya iptal olmaz. • İptal ya da iade sonrası siparişte kalan ürünler kampanya şartlarını sağlamaya yetmiyorsa, ücret iadesi, iptal ya da iade edilen ürünler için kampanyadan gelen indirim tutarı düşülerek yapılır.Elite üyeliğin ayrıcalıkları nelerdir?• 150 TL ve üzeri tüm alışverişlerde kargo bedava • Trendyol elite müşterilere öncelikli müşteri hizmetleriGel Al Noktası nedir?• Gel Al noktaları, kargonuzu evinizde beklemek zorunda kalmadan kolay ve güvenli şekilde kendiniz teslim alabileceğiniz noktalardır. • Siparişini verirken Gel Al noktası seçeneği üzerinden sana en yakın noktayı seçip, siparişin ulaştığında sipariş detay sayfanda yer alan veya gelen SMS\\'teki şifre ile ürününü rahatça alabilirsin. • Siparişin Gel Al noktasına ulaştıktan sonra 5 gün içerisinde alman gerekir. 5 gün içerisinde teslim alınmayan ürünler, satıcıya iade olarak geri gönderilir. • Eğer şifrene sipariş detay sayfasından veya SMS\\'ten ulaşamıyorsan;Kargo otomatı ise otomat üzerinden şifreni yenileyebilirsin.Esnaf noktası ise nokta yetkilisi aracılığıyla şifreni yenileyebilirsin.Kargo şubesi ise şubeye gitmeden önce şifre gönderilmemektedir, şube personeli sizi yönlendirecektir.Daha fazla bilgi için linkine tıklayabilirsin.Ürün veya siparişim ile ilgili taleplerimi/sorularımı nasıl iletebilirim?Ürün özellikleri ile ilgili olan sorularınızı ürünün altında yer alan Satıcı Soruları bölümünü tıklayarak sorabilir, siparişiniz ile ilgili sorularınızı veya taleplerinizi Sipariş Detay\\'da yer alan Soru Sor bölümünden iletebilirsiniz.Nasıl Elite olurum?Elite üye olabilmek için son 3 ay içerisinde toplamda 2500 Trendyol Puan toplamış olmalısın. Trendyol Puan\\'lar aşağıdaki şekilde kazanılabilir.• Her 250 TL\\'lik Trendyol alışverişinde 25 Trendyol Puan, • Her 250 TL\\'lik Trendyol Yemek alışverişinde 25 Trendyol Puan, • Her 250 TL\\'lik Trendyol Hızlı Market alışverişinde 25 Trendyol Puan, • Her 250 TL\\'lik Dolap alışverişinde 25 Trendyol Puan, • Onaylanan her yorumda 10 Trendyol Puan, • Onaylanan her fotograflı yorumda 20 Trendyol Puan hesabına yüklenir.Önemli Not: Her siparişte kazanabileceğin maksimum Trendyol Puan \\'100\\' ile sınırlıdır. Onaylanan siparişlerini ve Trendyol Puan’larını \\'Elite sayfasından\\' takip edebilirsin.Sağlık beyanı nedir?Sağlık beyanı, insan sağlığına doğrudan veya dolaylı olarak faydalı olduğunu yahut hastalıklara veya belirtilerine karşı etkili olduğunu, koruduğunu, tedavi ettiğini belirten, ileri süren veya ima eden her türlü ifadedir. (Metabolizmayı hızlandırır, sindirim sistemini düzenler, kolajen sentezini sağlar vb).Popüler Marka ve MağazalarPentiMangoVivenseWatsonsEnglish HomeBershkaStradivariusThe North FaceBeymenColumbiaSamsungLumberjackPumaMudoDerimodAppleNew BalanceHuaweiXiaomiOppoMonster NotebookBirkenstockArçelikDYSONAdidasNikeSkechersLacosteAvvaUnder ArmourMadame CocoPull & BearKotonDefactoMaviPierre CardinTchiboFarmasiHelly HansenNetworkBoschKaracaKiğılıMigrosCATPopüler SayfalarBluetooth KulaklıkiPhoneSamsung Cep TelefonuAzerbaycan\\'dan AlışverişNike Air MaxRobot SüpürgeLaptopiPhone 15Soba & IsıtıcıiPhone 15 PlusiPhone 15 ProiPhone 15 Pro MaxApple WatchÇamaşır MakinesiBulaşık MakinesiBuzdolabıSevgililer Günü HediyesiÖğrencilere Vergisiz TelefonÖğrencilere Vergisiz LaptopE-İhracatSırt ÇantasıApple Watch Series 9TermosKadın MontErkek MontSınav Hazırlık ve Test KitaplarıTelevizyonKahve MakinesiKitapSneakerOyuncu KoltuğuElbisePopüler AramalarPopüler KategorilerKadın BotDyson AirwrapApple AirpodsRoman, Hikaye ve Edebiyat KitaplarıTrendyol BlogAile, Çocuk Bakımı KitaplarıMacbookTrendyol EnglishErkek SweatshirtErkek PolarTrendyol DeutschTrendyolBiz KimizKariyerİletişimTrendyol\\'da Satış YapGüvenli AlışverişAbout usWho we areCareersContact usSustainabilityMobil UygulamalarKampanyalarAktif KampanyalarElite ÜyelikHediye FikirleriTrendyol FırsatlarıSosyal MedyaYardımSıkça Sorulan SorularCanlı YardımNasıl İade Edebilirimİşlem RehberiÜlke Değiştir©2024 DSM Grup Danışmanlık İletişim ve Satış Tic.A.Ş.-Her Hakkı Saklıdır.Kullanım KoşullarıDSM GrupKVK ve Gizlilik PolitikasıÇerez Tercihleri\\n', metadata={'source': 'https://www.trendyol.com/yardim/sorular', 'title': 'Yardım | Trendyol', 'language': 'tr-TR'})]\n"
     ]
    }
   ],
   "source": [
    "loader=WebBaseLoader(\"https://www.trendyol.com/yardim/sorular\")\n",
    "docs=loader.load()\n",
    "print(docs)"
   ]
  },
  {
   "cell_type": "code",
   "execution_count": 156,
   "metadata": {},
   "outputs": [
    {
     "data": {
      "text/plain": [
       "[Document(page_content='eder.Siparişimin teslimat adresini veya alıcı adını değiştirebilir miyim?Eğer siparişiniz “Kargoya Verildi” statüsündeyse alıcı ve/veya adres değişikliğini ancak kargo firmaları yapabilir. Değişiklik talebinizi iki şekilde iletebilirsiniz.Kargonun gönderildiği kargo firması ile aşağıdaki numaralardan irtibata geçerek: a. AGT Çağrı Merkezi için 0850 480 76 77 b. Aras Kargo için 444 25 52 c. Ceva Lojistik için 0216 999 24 40 d. Horoz Lojistik için 0850 202 33 50 e. MNG Kargo için 444 06 06 f. PTT Kargo için 444 1 788 g. Sürat Kargo için 0850 202 02 02 h. Trendyol Express için 0850 759 15 15 ı. Yurtiçi Kargo için 444 99 99“Hesabım” bölümünden “Trendyol Asistan“ butonuna tıklayarak bize ulaşabilirsin.Siparişim ne zaman gelir?• Satın aldığınız ürünler Hesabım->Siparişlerim->Sipariş Detay sayfasında belirtilen teslimat tarih aralığında teslim edilir.• Üründe “Hızlı Teslimat” etiketi bulunuyorsa siparişiniz en geç bir sonraki iş günü kargoya verilir. “Bugün Kargoda” etiketi bulunuyorsa', metadata={'language': 'tr-TR', 'source': 'https://www.trendyol.com/yardim/sorular', 'title': 'Yardım | Trendyol'}),\n",
       " Document(page_content='eder.Siparişimin teslimat adresini veya alıcı adını değiştirebilir miyim?Eğer siparişiniz “Kargoya Verildi” statüsündeyse alıcı ve/veya adres değişikliğini ancak kargo firmaları yapabilir. Değişiklik talebinizi iki şekilde iletebilirsiniz.Kargonun gönderildiği kargo firması ile aşağıdaki numaralardan irtibata geçerek: a. AGT Çağrı Merkezi için 0850 480 76 77 b. Aras Kargo için 444 25 52 c. Ceva Lojistik için 0216 999 24 40 d. Horoz Lojistik için 0850 202 33 50 e. MNG Kargo için 444 06 06 f. PTT Kargo için 444 1 788 g. Sürat Kargo için 0850 202 02 02 h. Trendyol Express için 0850 759 15 15 ı. Yurtiçi Kargo için 444 99 99“Hesabım” bölümünden “Trendyol Asistan“ butonuna tıklayarak bize ulaşabilirsin.Siparişim ne zaman gelir?• Satın aldığınız ürünler Hesabım->Siparişlerim->Sipariş Detay sayfasında belirtilen teslimat tarih aralığında teslim edilir.• Üründe “Hızlı Teslimat” etiketi bulunuyorsa siparişiniz en geç bir sonraki iş günü kargoya verilir. “Bugün Kargoda” etiketi bulunuyorsa', metadata={'language': 'tr-TR', 'source': 'https://www.trendyol.com/yardim/sorular', 'title': 'Yardım | Trendyol'}),\n",
       " Document(page_content='eder.Siparişimin teslimat adresini veya alıcı adını değiştirebilir miyim?Eğer siparişiniz “Kargoya Verildi” statüsündeyse alıcı ve/veya adres değişikliğini ancak kargo firmaları yapabilir. Değişiklik talebinizi iki şekilde iletebilirsiniz.Kargonun gönderildiği kargo firması ile aşağıdaki numaralardan irtibata geçerek: a. AGT Çağrı Merkezi için 0850 480 76 77 b. Aras Kargo için 444 25 52 c. Ceva Lojistik için 0216 999 24 40 d. Horoz Lojistik için 0850 202 33 50 e. MNG Kargo için 444 06 06 f. PTT Kargo için 444 1 788 g. Sürat Kargo için 0850 202 02 02 h. Trendyol Express için 0850 759 15 15 ı. Yurtiçi Kargo için 444 99 99“Hesabım” bölümünden “Trendyol Asistan“ butonuna tıklayarak bize ulaşabilirsin.Siparişim ne zaman gelir?• Satın aldığınız ürünler Hesabım->Siparişlerim->Sipariş Detay sayfasında belirtilen teslimat tarih aralığında teslim edilir.• Üründe “Hızlı Teslimat” etiketi bulunuyorsa siparişiniz en geç bir sonraki iş günü kargoya verilir. “Bugün Kargoda” etiketi bulunuyorsa', metadata={'language': 'tr-TR', 'source': 'https://www.trendyol.com/yardim/sorular', 'title': 'Yardım | Trendyol'}),\n",
       " Document(page_content='question: siparişimi ne zaman iptal edebilirim\\ntext: Siparişinizi, kargo hazırlıkları başlamadan önce \"Hesabım\" altında yer alan \"Siparişlerim\" bölümünden \"Detaylar/Sipariş Detayı\" seçeneğine tıklayarak ve ardından \"Sipariş İptal\" butonuna basarak iptal edebilirsiniz. Eğer siparişiniz kargoya verilmişse, ürünü teslim aldıktan sonra iade edebilirsiniz. Umarım yardımcı olabilmişimdir.')]"
      ]
     },
     "execution_count": 156,
     "metadata": {},
     "output_type": "execute_result"
    }
   ],
   "source": [
    "splitter=RecursiveCharacterTextSplitter(chunk_size=1000,chunk_overlap=200) # seperators\n",
    "pages = splitter.split_documents(docs)\n",
    "vectordb=Chroma.from_documents(pages, OpenAIEmbeddings())\n",
    "\n",
    "vectordb.similarity_search(\"Siparişimin teslimat adresini veya alıcı adını değiştirebilir miyim?\")"
   ]
  },
  {
   "cell_type": "code",
   "execution_count": 157,
   "metadata": {},
   "outputs": [],
   "source": [
    "db = vectordb.as_retriever()"
   ]
  },
  {
   "cell_type": "code",
   "execution_count": 122,
   "metadata": {},
   "outputs": [],
   "source": [
    "# chat\n",
    "def trendyol(model, tweet):\n",
    "    system_template = \"\"\"\n",
    "        You are an assistant of a e-commerce website. You'll answer populer questions from customers.\n",
    "        Be kind, and answer directly.\n",
    "        ALWAYS answer Turkish.\n",
    "        ALWAYS end with \"Umarım yardımcı olabilmişimdir.\".\n",
    "        History: {history}\n",
    "        Question: {question}\n",
    "        Answer:\n",
    "         \"\"\"\n",
    "    prompt = PromptTemplate(template=system_template,\n",
    "                            input_variables=['question'])\n",
    "\n",
    "    # memory = ConversationBufferMemory(\n",
    "    #                     memory_key=\"history\",\n",
    "    #                     input_key=\"question\")\n",
    "    memory = VectorStoreRetrieverMemory(retriever=db)\n",
    "\n",
    "    qa_chain = LLMChain(llm=model,\n",
    "                        memory=memory,\n",
    "                        prompt=prompt)\n",
    "    \n",
    "    answer = qa_chain({\"question\": tweet}) \n",
    "    return answer[\"text\"]\n"
   ]
  },
  {
   "cell_type": "code",
   "execution_count": 123,
   "metadata": {},
   "outputs": [
    {
     "data": {
      "text/plain": [
       "'Siparişinizi, kargo hazırlıkları başlamadan önce \"Hesabım\" altında yer alan \"Siparişlerim\" bölümünden \"Detaylar/Sipariş Detayı\" seçeneğine tıklayarak ve ardından \"Sipariş İptal\" butonuna basarak iptal edebilirsiniz. Eğer siparişiniz kargoya verilmişse, ürünü teslim aldıktan sonra iade edebilirsiniz. Umarım yardımcı olabilmişimdir.'"
      ]
     },
     "execution_count": 123,
     "metadata": {},
     "output_type": "execute_result"
    }
   ],
   "source": [
    "trendyol(llm, \"siparişimi ne zaman iptal edebilirim\")"
   ]
  },
  {
   "cell_type": "code",
   "execution_count": 124,
   "metadata": {},
   "outputs": [
    {
     "data": {
      "text/plain": [
       "'Eğer siparişiniz kargoya verildiyse, siparişinizi iptal edemezsiniz. Ancak, ürünü teslim aldığınızda iade edebilirsiniz. Umarım yardımcı olabilmişimdir.'"
      ]
     },
     "execution_count": 124,
     "metadata": {},
     "output_type": "execute_result"
    }
   ],
   "source": [
    "trendyol(llm, \"kargoya verildiyse peki\")"
   ]
  },
  {
   "cell_type": "code",
   "execution_count": 163,
   "metadata": {},
   "outputs": [],
   "source": [
    "# chat\n",
    "def trendyol_chatbot(model):\n",
    "    system_template = \"\"\"\n",
    "        You are an assistant of Güldeniz. You'll answer populer questions from customers.\n",
    "        Be kind, and answer directly.\n",
    "        ALWAYS answer Turkish.\n",
    "        ALWAYS end with \"Ben Güldeniz'in asistanıyım ve umarım yardımcı olabilmişimdir.\".\n",
    "        Context: {context}\n",
    "        History: {chat_history}\n",
    "        Question: {question}\n",
    "        Answer:\n",
    "         \"\"\"\n",
    "    prompt = PromptTemplate(\n",
    "                            input_variables=['context', 'chat_history', 'question'],\n",
    "                            template=system_template)\n",
    "\n",
    "    memory = ConversationBufferMemory(\n",
    "                        memory_key=\"chat_history\",\n",
    "                        input_key=\"question\")\n",
    "    #memory = VectorStoreRetrieverMemory(retriever=db)\n",
    "\n",
    "    # qa_chain = LLMChain(llm=model,\n",
    "    #                     memory=memory,\n",
    "    #                     prompt=prompt)\n",
    "    qa_chain = ConversationalRetrievalChain.from_llm(model, retriever=db, memory=memory, combine_docs_chain_kwargs={\"prompt\":prompt}, return_documents=True)\n",
    "    \n",
    "    return qa_chain\n"
   ]
  },
  {
   "cell_type": "code",
   "execution_count": 164,
   "metadata": {},
   "outputs": [],
   "source": [
    "chain = trendyol_chatbot(llm)"
   ]
  },
  {
   "cell_type": "code",
   "execution_count": 165,
   "metadata": {},
   "outputs": [
    {
     "data": {
      "text/plain": [
       "'Siparişinizi, kargo hazırlıkları başlamadan önce \"Hesabım\" altında yer alan \"Siparişlerim\" bölümünden \"Detaylar/Sipariş Detayı\" seçeneğine tıklayarak ve ardından \"Sipariş İptal\" butonuna basarak iptal edebilirsiniz. Eğer siparişiniz kargoya verilmişse, ürünü teslim aldıktan sonra iade edebilirsiniz. Ben Güldeniz\\'in asistanıyım ve umarım yardımcı olabilmişimdir.'"
      ]
     },
     "execution_count": 165,
     "metadata": {},
     "output_type": "execute_result"
    }
   ],
   "source": [
    "chain({\"question\": \"siparişimi ne zaman iptal edebilirim\"})[\"answer\"]"
   ]
  },
  {
   "cell_type": "code",
   "execution_count": 167,
   "metadata": {},
   "outputs": [
    {
     "ename": "ValueError",
     "evalue": "Unsupported chat history format: <class 'str'>. Full chat history: Human: siparişimi ne zaman iptal edebilirim\nAI: Siparişinizi, kargo hazırlıkları başlamadan önce \"Hesabım\" altında yer alan \"Siparişlerim\" bölümünden \"Detaylar/Sipariş Detayı\" seçeneğine tıklayarak ve ardından \"Sipariş İptal\" butonuna basarak iptal edebilirsiniz. Eğer siparişiniz kargoya verilmişse, ürünü teslim aldıktan sonra iade edebilirsiniz. Ben Güldeniz'in asistanıyım ve umarım yardımcı olabilmişimdir. ",
     "output_type": "error",
     "traceback": [
      "\u001b[0;31m---------------------------------------------------------------------------\u001b[0m",
      "\u001b[0;31mValueError\u001b[0m                                Traceback (most recent call last)",
      "Cell \u001b[0;32mIn[167], line 1\u001b[0m\n\u001b[0;32m----> 1\u001b[0m \u001b[43mchain\u001b[49m\u001b[43m(\u001b[49m\u001b[43m{\u001b[49m\u001b[38;5;124;43m\"\u001b[39;49m\u001b[38;5;124;43mquestion\u001b[39;49m\u001b[38;5;124;43m\"\u001b[39;49m\u001b[43m:\u001b[49m\u001b[43m \u001b[49m\u001b[38;5;124;43m\"\u001b[39;49m\u001b[38;5;124;43mya kargoya verildiyse\u001b[39;49m\u001b[38;5;124;43m\"\u001b[39;49m\u001b[43m}\u001b[49m\u001b[43m)\u001b[49m\n",
      "File \u001b[0;32m~/Documents/ChatBot-with-LLaMa/env/lib/python3.10/site-packages/langchain_core/_api/deprecation.py:145\u001b[0m, in \u001b[0;36mdeprecated.<locals>.deprecate.<locals>.warning_emitting_wrapper\u001b[0;34m(*args, **kwargs)\u001b[0m\n\u001b[1;32m    143\u001b[0m     warned \u001b[38;5;241m=\u001b[39m \u001b[38;5;28;01mTrue\u001b[39;00m\n\u001b[1;32m    144\u001b[0m     emit_warning()\n\u001b[0;32m--> 145\u001b[0m \u001b[38;5;28;01mreturn\u001b[39;00m \u001b[43mwrapped\u001b[49m\u001b[43m(\u001b[49m\u001b[38;5;241;43m*\u001b[39;49m\u001b[43margs\u001b[49m\u001b[43m,\u001b[49m\u001b[43m \u001b[49m\u001b[38;5;241;43m*\u001b[39;49m\u001b[38;5;241;43m*\u001b[39;49m\u001b[43mkwargs\u001b[49m\u001b[43m)\u001b[49m\n",
      "File \u001b[0;32m~/Documents/ChatBot-with-LLaMa/env/lib/python3.10/site-packages/langchain/chains/base.py:378\u001b[0m, in \u001b[0;36mChain.__call__\u001b[0;34m(self, inputs, return_only_outputs, callbacks, tags, metadata, run_name, include_run_info)\u001b[0m\n\u001b[1;32m    346\u001b[0m \u001b[38;5;250m\u001b[39m\u001b[38;5;124;03m\"\"\"Execute the chain.\u001b[39;00m\n\u001b[1;32m    347\u001b[0m \n\u001b[1;32m    348\u001b[0m \u001b[38;5;124;03mArgs:\u001b[39;00m\n\u001b[0;32m   (...)\u001b[0m\n\u001b[1;32m    369\u001b[0m \u001b[38;5;124;03m        `Chain.output_keys`.\u001b[39;00m\n\u001b[1;32m    370\u001b[0m \u001b[38;5;124;03m\"\"\"\u001b[39;00m\n\u001b[1;32m    371\u001b[0m config \u001b[38;5;241m=\u001b[39m {\n\u001b[1;32m    372\u001b[0m     \u001b[38;5;124m\"\u001b[39m\u001b[38;5;124mcallbacks\u001b[39m\u001b[38;5;124m\"\u001b[39m: callbacks,\n\u001b[1;32m    373\u001b[0m     \u001b[38;5;124m\"\u001b[39m\u001b[38;5;124mtags\u001b[39m\u001b[38;5;124m\"\u001b[39m: tags,\n\u001b[1;32m    374\u001b[0m     \u001b[38;5;124m\"\u001b[39m\u001b[38;5;124mmetadata\u001b[39m\u001b[38;5;124m\"\u001b[39m: metadata,\n\u001b[1;32m    375\u001b[0m     \u001b[38;5;124m\"\u001b[39m\u001b[38;5;124mrun_name\u001b[39m\u001b[38;5;124m\"\u001b[39m: run_name,\n\u001b[1;32m    376\u001b[0m }\n\u001b[0;32m--> 378\u001b[0m \u001b[38;5;28;01mreturn\u001b[39;00m \u001b[38;5;28;43mself\u001b[39;49m\u001b[38;5;241;43m.\u001b[39;49m\u001b[43minvoke\u001b[49m\u001b[43m(\u001b[49m\n\u001b[1;32m    379\u001b[0m \u001b[43m    \u001b[49m\u001b[43minputs\u001b[49m\u001b[43m,\u001b[49m\n\u001b[1;32m    380\u001b[0m \u001b[43m    \u001b[49m\u001b[43mcast\u001b[49m\u001b[43m(\u001b[49m\u001b[43mRunnableConfig\u001b[49m\u001b[43m,\u001b[49m\u001b[43m \u001b[49m\u001b[43m{\u001b[49m\u001b[43mk\u001b[49m\u001b[43m:\u001b[49m\u001b[43m \u001b[49m\u001b[43mv\u001b[49m\u001b[43m \u001b[49m\u001b[38;5;28;43;01mfor\u001b[39;49;00m\u001b[43m \u001b[49m\u001b[43mk\u001b[49m\u001b[43m,\u001b[49m\u001b[43m \u001b[49m\u001b[43mv\u001b[49m\u001b[43m \u001b[49m\u001b[38;5;129;43;01min\u001b[39;49;00m\u001b[43m \u001b[49m\u001b[43mconfig\u001b[49m\u001b[38;5;241;43m.\u001b[39;49m\u001b[43mitems\u001b[49m\u001b[43m(\u001b[49m\u001b[43m)\u001b[49m\u001b[43m \u001b[49m\u001b[38;5;28;43;01mif\u001b[39;49;00m\u001b[43m \u001b[49m\u001b[43mv\u001b[49m\u001b[43m \u001b[49m\u001b[38;5;129;43;01mis\u001b[39;49;00m\u001b[43m \u001b[49m\u001b[38;5;129;43;01mnot\u001b[39;49;00m\u001b[43m \u001b[49m\u001b[38;5;28;43;01mNone\u001b[39;49;00m\u001b[43m}\u001b[49m\u001b[43m)\u001b[49m\u001b[43m,\u001b[49m\n\u001b[1;32m    381\u001b[0m \u001b[43m    \u001b[49m\u001b[43mreturn_only_outputs\u001b[49m\u001b[38;5;241;43m=\u001b[39;49m\u001b[43mreturn_only_outputs\u001b[49m\u001b[43m,\u001b[49m\n\u001b[1;32m    382\u001b[0m \u001b[43m    \u001b[49m\u001b[43minclude_run_info\u001b[49m\u001b[38;5;241;43m=\u001b[39;49m\u001b[43minclude_run_info\u001b[49m\u001b[43m,\u001b[49m\n\u001b[1;32m    383\u001b[0m \u001b[43m\u001b[49m\u001b[43m)\u001b[49m\n",
      "File \u001b[0;32m~/Documents/ChatBot-with-LLaMa/env/lib/python3.10/site-packages/langchain/chains/base.py:163\u001b[0m, in \u001b[0;36mChain.invoke\u001b[0;34m(self, input, config, **kwargs)\u001b[0m\n\u001b[1;32m    161\u001b[0m \u001b[38;5;28;01mexcept\u001b[39;00m \u001b[38;5;167;01mBaseException\u001b[39;00m \u001b[38;5;28;01mas\u001b[39;00m e:\n\u001b[1;32m    162\u001b[0m     run_manager\u001b[38;5;241m.\u001b[39mon_chain_error(e)\n\u001b[0;32m--> 163\u001b[0m     \u001b[38;5;28;01mraise\u001b[39;00m e\n\u001b[1;32m    164\u001b[0m run_manager\u001b[38;5;241m.\u001b[39mon_chain_end(outputs)\n\u001b[1;32m    166\u001b[0m \u001b[38;5;28;01mif\u001b[39;00m include_run_info:\n",
      "File \u001b[0;32m~/Documents/ChatBot-with-LLaMa/env/lib/python3.10/site-packages/langchain/chains/base.py:153\u001b[0m, in \u001b[0;36mChain.invoke\u001b[0;34m(self, input, config, **kwargs)\u001b[0m\n\u001b[1;32m    150\u001b[0m \u001b[38;5;28;01mtry\u001b[39;00m:\n\u001b[1;32m    151\u001b[0m     \u001b[38;5;28mself\u001b[39m\u001b[38;5;241m.\u001b[39m_validate_inputs(inputs)\n\u001b[1;32m    152\u001b[0m     outputs \u001b[38;5;241m=\u001b[39m (\n\u001b[0;32m--> 153\u001b[0m         \u001b[38;5;28;43mself\u001b[39;49m\u001b[38;5;241;43m.\u001b[39;49m\u001b[43m_call\u001b[49m\u001b[43m(\u001b[49m\u001b[43minputs\u001b[49m\u001b[43m,\u001b[49m\u001b[43m \u001b[49m\u001b[43mrun_manager\u001b[49m\u001b[38;5;241;43m=\u001b[39;49m\u001b[43mrun_manager\u001b[49m\u001b[43m)\u001b[49m\n\u001b[1;32m    154\u001b[0m         \u001b[38;5;28;01mif\u001b[39;00m new_arg_supported\n\u001b[1;32m    155\u001b[0m         \u001b[38;5;28;01melse\u001b[39;00m \u001b[38;5;28mself\u001b[39m\u001b[38;5;241m.\u001b[39m_call(inputs)\n\u001b[1;32m    156\u001b[0m     )\n\u001b[1;32m    158\u001b[0m     final_outputs: Dict[\u001b[38;5;28mstr\u001b[39m, Any] \u001b[38;5;241m=\u001b[39m \u001b[38;5;28mself\u001b[39m\u001b[38;5;241m.\u001b[39mprep_outputs(\n\u001b[1;32m    159\u001b[0m         inputs, outputs, return_only_outputs\n\u001b[1;32m    160\u001b[0m     )\n\u001b[1;32m    161\u001b[0m \u001b[38;5;28;01mexcept\u001b[39;00m \u001b[38;5;167;01mBaseException\u001b[39;00m \u001b[38;5;28;01mas\u001b[39;00m e:\n",
      "File \u001b[0;32m~/Documents/ChatBot-with-LLaMa/env/lib/python3.10/site-packages/langchain/chains/conversational_retrieval/base.py:142\u001b[0m, in \u001b[0;36mBaseConversationalRetrievalChain._call\u001b[0;34m(self, inputs, run_manager)\u001b[0m\n\u001b[1;32m    140\u001b[0m question \u001b[38;5;241m=\u001b[39m inputs[\u001b[38;5;124m\"\u001b[39m\u001b[38;5;124mquestion\u001b[39m\u001b[38;5;124m\"\u001b[39m]\n\u001b[1;32m    141\u001b[0m get_chat_history \u001b[38;5;241m=\u001b[39m \u001b[38;5;28mself\u001b[39m\u001b[38;5;241m.\u001b[39mget_chat_history \u001b[38;5;129;01mor\u001b[39;00m _get_chat_history\n\u001b[0;32m--> 142\u001b[0m chat_history_str \u001b[38;5;241m=\u001b[39m \u001b[43mget_chat_history\u001b[49m\u001b[43m(\u001b[49m\u001b[43minputs\u001b[49m\u001b[43m[\u001b[49m\u001b[38;5;124;43m\"\u001b[39;49m\u001b[38;5;124;43mchat_history\u001b[39;49m\u001b[38;5;124;43m\"\u001b[39;49m\u001b[43m]\u001b[49m\u001b[43m)\u001b[49m\n\u001b[1;32m    144\u001b[0m \u001b[38;5;28;01mif\u001b[39;00m chat_history_str:\n\u001b[1;32m    145\u001b[0m     callbacks \u001b[38;5;241m=\u001b[39m _run_manager\u001b[38;5;241m.\u001b[39mget_child()\n",
      "File \u001b[0;32m~/Documents/ChatBot-with-LLaMa/env/lib/python3.10/site-packages/langchain/chains/conversational_retrieval/base.py:50\u001b[0m, in \u001b[0;36m_get_chat_history\u001b[0;34m(chat_history)\u001b[0m\n\u001b[1;32m     48\u001b[0m         buffer \u001b[38;5;241m+\u001b[39m\u001b[38;5;241m=\u001b[39m \u001b[38;5;124m\"\u001b[39m\u001b[38;5;130;01m\\n\u001b[39;00m\u001b[38;5;124m\"\u001b[39m \u001b[38;5;241m+\u001b[39m \u001b[38;5;124m\"\u001b[39m\u001b[38;5;130;01m\\n\u001b[39;00m\u001b[38;5;124m\"\u001b[39m\u001b[38;5;241m.\u001b[39mjoin([human, ai])\n\u001b[1;32m     49\u001b[0m     \u001b[38;5;28;01melse\u001b[39;00m:\n\u001b[0;32m---> 50\u001b[0m         \u001b[38;5;28;01mraise\u001b[39;00m \u001b[38;5;167;01mValueError\u001b[39;00m(\n\u001b[1;32m     51\u001b[0m             \u001b[38;5;124mf\u001b[39m\u001b[38;5;124m\"\u001b[39m\u001b[38;5;124mUnsupported chat history format: \u001b[39m\u001b[38;5;132;01m{\u001b[39;00m\u001b[38;5;28mtype\u001b[39m(dialogue_turn)\u001b[38;5;132;01m}\u001b[39;00m\u001b[38;5;124m.\u001b[39m\u001b[38;5;124m\"\u001b[39m\n\u001b[1;32m     52\u001b[0m             \u001b[38;5;124mf\u001b[39m\u001b[38;5;124m\"\u001b[39m\u001b[38;5;124m Full chat history: \u001b[39m\u001b[38;5;132;01m{\u001b[39;00mchat_history\u001b[38;5;132;01m}\u001b[39;00m\u001b[38;5;124m \u001b[39m\u001b[38;5;124m\"\u001b[39m\n\u001b[1;32m     53\u001b[0m         )\n\u001b[1;32m     54\u001b[0m \u001b[38;5;28;01mreturn\u001b[39;00m buffer\n",
      "\u001b[0;31mValueError\u001b[0m: Unsupported chat history format: <class 'str'>. Full chat history: Human: siparişimi ne zaman iptal edebilirim\nAI: Siparişinizi, kargo hazırlıkları başlamadan önce \"Hesabım\" altında yer alan \"Siparişlerim\" bölümünden \"Detaylar/Sipariş Detayı\" seçeneğine tıklayarak ve ardından \"Sipariş İptal\" butonuna basarak iptal edebilirsiniz. Eğer siparişiniz kargoya verilmişse, ürünü teslim aldıktan sonra iade edebilirsiniz. Ben Güldeniz'in asistanıyım ve umarım yardımcı olabilmişimdir. "
     ]
    }
   ],
   "source": [
    "chain({\"question\": \"ya kargoya verildiyse\"})"
   ]
  },
  {
   "cell_type": "code",
   "execution_count": 159,
   "metadata": {},
   "outputs": [
    {
     "data": {
      "text/plain": [
       "{'question': 'sen kimsin',\n",
       " 'chat_history': '',\n",
       " 'answer': \"Ben Güldeniz'in asistanıyım ve umarım yardımcı olabilmişimdir.\"}"
      ]
     },
     "execution_count": 159,
     "metadata": {},
     "output_type": "execute_result"
    }
   ],
   "source": [
    "trendyol_chatbot(llm, \"sen kimsin\")"
   ]
  },
  {
   "cell_type": "code",
   "execution_count": 160,
   "metadata": {},
   "outputs": [
    {
     "data": {
      "text/plain": [
       "{'question': 'siparişimi ne zaman iptal edebilirim',\n",
       " 'chat_history': '',\n",
       " 'answer': 'Siparişinizi, kargo hazırlıkları başlamadan önce \"Hesabım\" altında yer alan \"Siparişlerim\" bölümünden \"Detaylar/Sipariş Detayı\" seçeneğine tıklayarak ve ardından \"Sipariş İptal\" butonuna basarak iptal edebilirsiniz. Eğer siparişiniz kargoya verilmişse, ürünü teslim aldıktan sonra iade edebilirsiniz. Ben Güldeniz\\'in asistanıyım ve umarım yardımcı olabilmişimdir.'}"
      ]
     },
     "execution_count": 160,
     "metadata": {},
     "output_type": "execute_result"
    }
   ],
   "source": [
    "trendyol_chatbot(llm, \"siparişimi ne zaman iptal edebilirim\")"
   ]
  },
  {
   "cell_type": "code",
   "execution_count": null,
   "metadata": {},
   "outputs": [],
   "source": [
    "trendyol_chatbot(llm, \"ya kargoya verildiyse\")"
   ]
  }
 ],
 "metadata": {
  "kernelspec": {
   "display_name": "Python 3",
   "language": "python",
   "name": "python3"
  },
  "language_info": {
   "codemirror_mode": {
    "name": "ipython",
    "version": 3
   },
   "file_extension": ".py",
   "mimetype": "text/x-python",
   "name": "python",
   "nbconvert_exporter": "python",
   "pygments_lexer": "ipython3",
   "version": "3.10.14"
  }
 },
 "nbformat": 4,
 "nbformat_minor": 2
}
